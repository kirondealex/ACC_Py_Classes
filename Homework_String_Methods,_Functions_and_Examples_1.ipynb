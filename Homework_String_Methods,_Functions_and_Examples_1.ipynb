{
  "nbformat": 4,
  "nbformat_minor": 0,
  "metadata": {
    "colab": {
      "provenance": [],
      "authorship_tag": "ABX9TyOl7b4G3t3GneDt6Y87tyBz",
      "include_colab_link": true
    },
    "kernelspec": {
      "name": "python3",
      "display_name": "Python 3"
    },
    "language_info": {
      "name": "python"
    }
  },
  "cells": [
    {
      "cell_type": "markdown",
      "metadata": {
        "id": "view-in-github",
        "colab_type": "text"
      },
      "source": [
        "<a href=\"https://colab.research.google.com/github/kirondealex/ACC_Py_Classes/blob/main/Homework_String_Methods%2C_Functions_and_Examples_1.ipynb\" target=\"_parent\"><img src=\"https://colab.research.google.com/assets/colab-badge.svg\" alt=\"Open In Colab\"/></a>"
      ]
    },
    {
      "cell_type": "code",
      "source": [
        "# WHen using the capitalize method, the first letter in the sentence/word is converted to upper case.\n",
        "\n",
        "txt =\"hello, how are you?\"\n",
        "x = txt.capitalize()\n",
        "print (x)"
      ],
      "metadata": {
        "colab": {
          "base_uri": "https://localhost:8080/"
        },
        "id": "jFVUM3raggpj",
        "outputId": "b03bfcee-9916-48b4-bda8-d245bbe93add"
      },
      "execution_count": null,
      "outputs": [
        {
          "output_type": "stream",
          "name": "stdout",
          "text": [
            "Hello, how are you?\n"
          ]
        }
      ]
    },
    {
      "cell_type": "code",
      "source": [
        "# With casefold method,the string is converted into lower case.\n",
        "\n",
        "txt =\"Hello, How are you?\"\n",
        "x = txt.casefold()\n",
        "print (x)"
      ],
      "metadata": {
        "colab": {
          "base_uri": "https://localhost:8080/"
        },
        "id": "BENlxlI6i0vd",
        "outputId": "864111c6-7816-4111-b90e-d93510894ac8"
      },
      "execution_count": null,
      "outputs": [
        {
          "output_type": "stream",
          "name": "stdout",
          "text": [
            "hello, how are you?\n"
          ]
        }
      ]
    },
    {
      "cell_type": "code",
      "source": [
        "# Center method, the string is returned to the center\n",
        "\n",
        "txt =\"Mango\"\n",
        "x = txt.center(20)\n",
        "print (x)"
      ],
      "metadata": {
        "colab": {
          "base_uri": "https://localhost:8080/"
        },
        "id": "j6YHLbHajJHK",
        "outputId": "962b2337-9060-4262-dec7-dac681614238"
      },
      "execution_count": null,
      "outputs": [
        {
          "output_type": "stream",
          "name": "stdout",
          "text": [
            "       Mango        \n"
          ]
        }
      ]
    },
    {
      "cell_type": "code",
      "source": [
        "# For the Count method, the print brings out the number of times a word appears in a sentence.\n",
        "\n",
        "txt =\"i love mangoes, i've eaten mangoes my whole life , we have mangoes i eat mangoes\"\n",
        "x = txt.count(\"mangoes\")\n",
        "print (x)"
      ],
      "metadata": {
        "colab": {
          "base_uri": "https://localhost:8080/"
        },
        "id": "CZE_5CtVjkYN",
        "outputId": "33f48818-59a1-4b96-9f46-ab6c7ae7f923"
      },
      "execution_count": null,
      "outputs": [
        {
          "output_type": "stream",
          "name": "stdout",
          "text": [
            "4\n"
          ]
        }
      ]
    },
    {
      "cell_type": "code",
      "source": [
        "# With the encode method, the version of the string is returned if no encoding is specified.\n",
        "\n",
        "txt =\"My name is Alex\"\n",
        "x = txt.encode()\n",
        "print (x)"
      ],
      "metadata": {
        "colab": {
          "base_uri": "https://localhost:8080/"
        },
        "id": "PyxaMOZ-kHFO",
        "outputId": "afb856c1-6c4d-42ed-ebd2-c1b3525eb24b"
      },
      "execution_count": null,
      "outputs": [
        {
          "output_type": "stream",
          "name": "stdout",
          "text": [
            "b'My name is Alex'\n"
          ]
        }
      ]
    },
    {
      "cell_type": "code",
      "source": [
        "# The endwith method, it specifies wether the statement made is true or false.\n",
        "\n",
        "txt =\"hello, how are you?\"\n",
        "x = txt.endswith(\"\")\n",
        "print (x)"
      ],
      "metadata": {
        "colab": {
          "base_uri": "https://localhost:8080/"
        },
        "id": "1o4XBnx4lkPe",
        "outputId": "3bfb2d59-c9d3-41e4-c72f-fa43383a0d57"
      },
      "execution_count": null,
      "outputs": [
        {
          "output_type": "stream",
          "name": "stdout",
          "text": [
            "True\n"
          ]
        }
      ]
    },
    {
      "cell_type": "code",
      "source": [
        "# The expandtabs method, sets the tab size of the string.\n",
        "\n",
        "txt = \"H\\te\\tl\\tl\\to\"\n",
        "\n",
        "x =  txt.expandtabs(2)\n",
        "\n",
        "print(x)"
      ],
      "metadata": {
        "colab": {
          "base_uri": "https://localhost:8080/"
        },
        "id": "kA6QImYXl_ri",
        "outputId": "642ed234-694e-4f88-ee92-5a55f824cf4a"
      },
      "execution_count": null,
      "outputs": [
        {
          "output_type": "stream",
          "name": "stdout",
          "text": [
            "H e l l o\n"
          ]
        }
      ]
    },
    {
      "cell_type": "code",
      "source": [
        "txt = \"H\\te\\tl\\tl\\to\"\n",
        "\n",
        "x =  txt.expandtabs(7)\n",
        "\n",
        "print(x)"
      ],
      "metadata": {
        "colab": {
          "base_uri": "https://localhost:8080/"
        },
        "id": "kX3FHIp0maWt",
        "outputId": "8571f4d0-9a70-4982-d2ba-08eed6ebe3e4"
      },
      "execution_count": null,
      "outputs": [
        {
          "output_type": "stream",
          "name": "stdout",
          "text": [
            "H      e      l      l      o\n"
          ]
        }
      ]
    },
    {
      "cell_type": "code",
      "source": [
        "# The find Method,this identifies the the position number on which the word stands in a sentence.\n",
        "\n",
        "txt =\"hello, how are you?\"\n",
        "x = txt.find(\"are\")\n",
        "print (x)"
      ],
      "metadata": {
        "colab": {
          "base_uri": "https://localhost:8080/"
        },
        "id": "UE_UVlHFmhEv",
        "outputId": "0cb42a5a-c238-4ff3-9e29-8858af00c574"
      },
      "execution_count": null,
      "outputs": [
        {
          "output_type": "stream",
          "name": "stdout",
          "text": [
            "11\n"
          ]
        }
      ]
    },
    {
      "cell_type": "code",
      "source": [
        "\n",
        "\n",
        "txt =\"hello, how are you?\"\n",
        "x = txt.find(\",\")\n",
        "print (x)"
      ],
      "metadata": {
        "colab": {
          "base_uri": "https://localhost:8080/"
        },
        "id": "4ZeYLjDgm7ti",
        "outputId": "dd1c516c-fd45-4770-e12d-fb14cf9aeb01"
      },
      "execution_count": null,
      "outputs": [
        {
          "output_type": "stream",
          "name": "stdout",
          "text": [
            "5\n"
          ]
        }
      ]
    },
    {
      "cell_type": "code",
      "source": [
        "# The format method, Formats specified values in a string.\n",
        "\n",
        "txt = \"For only {price:.2f} shillings!\"\n",
        "print(txt.format(price = 35000))\n"
      ],
      "metadata": {
        "colab": {
          "base_uri": "https://localhost:8080/"
        },
        "id": "Q7cctcMMnEWj",
        "outputId": "daaef323-26b3-47cf-f704-db655e0668b5"
      },
      "execution_count": null,
      "outputs": [
        {
          "output_type": "stream",
          "name": "stdout",
          "text": [
            "For only 35000.00 shillings!\n"
          ]
        }
      ]
    },
    {
      "cell_type": "markdown",
      "source": [
        "txt = \"For only {price:.2f} shillings!\"\n",
        "print(txt.format(price = 332000))\n"
      ],
      "metadata": {
        "id": "jzcM1Ar_nvLY"
      }
    },
    {
      "cell_type": "code",
      "source": [
        "# The index method, Searches the string for a specified value and returns the position of where it was found\n",
        "\n",
        "txt =\"hello, how are you?\"\n",
        "x = txt.index(\",\")\n",
        "print (x)"
      ],
      "metadata": {
        "colab": {
          "base_uri": "https://localhost:8080/"
        },
        "id": "C_Bd5aQ6oJEf",
        "outputId": "2768f44f-7e08-489a-c4d5-b021f3274850"
      },
      "execution_count": null,
      "outputs": [
        {
          "output_type": "stream",
          "name": "stdout",
          "text": [
            "5\n"
          ]
        }
      ]
    },
    {
      "cell_type": "code",
      "source": [
        "\n",
        "\n",
        "txt =\"hello, how are you?\"\n",
        "x = txt.find(\"you\")\n",
        "print (x)"
      ],
      "metadata": {
        "colab": {
          "base_uri": "https://localhost:8080/"
        },
        "id": "XTyjJJcmoYJK",
        "outputId": "64b32c5b-af2d-4301-fdae-c01064a58a73"
      },
      "execution_count": null,
      "outputs": [
        {
          "output_type": "stream",
          "name": "stdout",
          "text": [
            "15\n"
          ]
        }
      ]
    }
  ]
}