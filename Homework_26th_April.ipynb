{
  "nbformat": 4,
  "nbformat_minor": 0,
  "metadata": {
    "colab": {
      "provenance": [],
      "authorship_tag": "ABX9TyMRB1jbUiin2LX2/NhtmJNe",
      "include_colab_link": true
    },
    "kernelspec": {
      "name": "python3",
      "display_name": "Python 3"
    },
    "language_info": {
      "name": "python"
    }
  },
  "cells": [
    {
      "cell_type": "markdown",
      "metadata": {
        "id": "view-in-github",
        "colab_type": "text"
      },
      "source": [
        "<a href=\"https://colab.research.google.com/github/kirondealex/ACC_Py_Classes/blob/main/Homework_26th_April.ipynb\" target=\"_parent\"><img src=\"https://colab.research.google.com/assets/colab-badge.svg\" alt=\"Open In Colab\"/></a>"
      ]
    },
    {
      "cell_type": "code",
      "execution_count": null,
      "metadata": {
        "colab": {
          "base_uri": "https://localhost:8080/"
        },
        "id": "5pbRcHlZskIc",
        "outputId": "45008bb5-5aa7-4fb8-edc8-4d85c81d1478"
      },
      "outputs": [
        {
          "output_type": "stream",
          "name": "stdout",
          "text": [
            "{1, 2, 3, 4}\n"
          ]
        }
      ],
      "source": [
        "# How do you add an element to a set?\n",
        "\n",
        "my_set = {1, 2, 3}\n",
        "my_set.add(4)\n",
        "print(my_set)\n",
        "\n",
        "\n"
      ]
    },
    {
      "cell_type": "markdown",
      "source": [
        "#How does a set differ from a list?\n",
        "\n",
        "A set is a collection that does not allow duplicates while a list is a colletionthat allows duplicate items.\n",
        "\n",
        "Sets do not keep order as items may appear in a different order each time you look at them while Lists keep the order of the items as added.\n",
        "\n",
        "Sets can be accessed by position which is not the case for lists.\n"
      ],
      "metadata": {
        "id": "80IqY7YM1LNR"
      }
    },
    {
      "cell_type": "code",
      "source": [
        "# What is the result of set set[1,2,1,4,2,4,1]\n",
        "set([1,2,1,4,2,4,1])\n"
      ],
      "metadata": {
        "colab": {
          "base_uri": "https://localhost:8080/"
        },
        "id": "2vlbwTm_1PBy",
        "outputId": "f80324e7-61a3-4ac4-f034-441a82be9e80"
      },
      "execution_count": null,
      "outputs": [
        {
          "output_type": "execute_result",
          "data": {
            "text/plain": [
              "{1, 2, 4}"
            ]
          },
          "metadata": {},
          "execution_count": 5
        }
      ]
    },
    {
      "cell_type": "code",
      "source": [
        "# What is the result of len\n",
        "len(set([1,2,1,4,2,4,1]))"
      ],
      "metadata": {
        "colab": {
          "base_uri": "https://localhost:8080/"
        },
        "id": "MtCVIJ1Q3Du-",
        "outputId": "c3446539-9e72-4339-d5bd-6355d2a0cef2"
      },
      "execution_count": null,
      "outputs": [
        {
          "output_type": "execute_result",
          "data": {
            "text/plain": [
              "3"
            ]
          },
          "metadata": {},
          "execution_count": 7
        }
      ]
    },
    {
      "cell_type": "code",
      "source": [
        "# 8 Given:\n",
        "set1 = {10, 20, 30, 40, 50}\n",
        "set2 = {30, 40, 50, 60, 70}\n",
        "\n",
        "set3 = set1.intersection(set2)\n",
        "print(set3)"
      ],
      "metadata": {
        "colab": {
          "base_uri": "https://localhost:8080/"
        },
        "id": "E5l48Mm-4rP-",
        "outputId": "d6b99f91-e53c-488b-d217-7d35a446eeae"
      },
      "execution_count": null,
      "outputs": [
        {
          "output_type": "stream",
          "name": "stdout",
          "text": [
            "{40, 50, 30}\n"
          ]
        }
      ]
    },
    {
      "cell_type": "code",
      "source": [
        "#the set.union brings out all the members in all sets without repeating the common ones.\n",
        "# 5 Given:\n",
        "set1 = {10, 20, 30, 40, 50}\n",
        "set2 = {30, 40, 50, 60, 70}\n",
        "\n",
        "set3 = set1.union(set2)\n",
        "print(set3)"
      ],
      "metadata": {
        "colab": {
          "base_uri": "https://localhost:8080/"
        },
        "id": "LUeGTGxA5--P",
        "outputId": "9662e829-b1c2-4b26-853f-10f1c3e2e2df"
      },
      "execution_count": null,
      "outputs": [
        {
          "output_type": "stream",
          "name": "stdout",
          "text": [
            "{70, 40, 10, 50, 20, 60, 30}\n"
          ]
        }
      ]
    },
    {
      "cell_type": "code",
      "source": [
        "#the symmetric_diffence returns a new set containing elements that are in either set1 or set2 but not in both.\n",
        "# 6 Given:\n",
        "set1 = {10, 20, 30, 40, 50}\n",
        "set2 = {30, 40, 50, 60, 70}\n",
        "\n",
        "set3 =set1.symmetric_difference(set2)\n",
        "print(set3)\n",
        "\n",
        "\n"
      ],
      "metadata": {
        "colab": {
          "base_uri": "https://localhost:8080/"
        },
        "id": "tB8UaHjE6bl6",
        "outputId": "1e36a3b3-1757-4af6-e740-0c956b5a66e5"
      },
      "execution_count": null,
      "outputs": [
        {
          "output_type": "stream",
          "name": "stdout",
          "text": [
            "{20, 70, 10, 60}\n"
          ]
        }
      ]
    },
    {
      "cell_type": "code",
      "source": [
        "# The symmetric_difference_update enriches set manipulation by providing in-place updates that help maintain only unique elements from involved sets.\n",
        "# 7 Given:\n",
        "set1 = {10, 20, 30, 40, 50}\n",
        "set2 = {30, 40, 50, 60, 70}\n",
        "\n",
        "set1.symmetric_difference_update(set2)\n",
        "print(set1)"
      ],
      "metadata": {
        "colab": {
          "base_uri": "https://localhost:8080/"
        },
        "id": "AnwmHdlT7sLj",
        "outputId": "3766e836-2ec3-4243-8a9b-f748a1e79983"
      },
      "execution_count": null,
      "outputs": [
        {
          "output_type": "stream",
          "name": "stdout",
          "text": [
            "{20, 70, 10, 60}\n"
          ]
        }
      ]
    }
  ]
}